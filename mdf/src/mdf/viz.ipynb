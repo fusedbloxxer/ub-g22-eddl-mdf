{
 "cells": [
  {
   "cell_type": "markdown",
   "metadata": {},
   "source": [
    "### Reload .py files whenever there are changes"
   ]
  },
  {
   "cell_type": "code",
   "execution_count": 1,
   "metadata": {},
   "outputs": [],
   "source": [
    "%load_ext autoreload\n",
    "%autoreload 2"
   ]
  },
  {
   "cell_type": "markdown",
   "metadata": {},
   "source": [
    "### Local imports from this project"
   ]
  },
  {
   "cell_type": "code",
   "execution_count": 2,
   "metadata": {},
   "outputs": [],
   "source": [
    "from mdf import *\n",
    "from mdf.ops import *\n",
    "from mdf.data import *"
   ]
  },
  {
   "cell_type": "markdown",
   "metadata": {},
   "source": [
    "### External imports from dependencies"
   ]
  },
  {
   "cell_type": "code",
   "execution_count": 3,
   "metadata": {},
   "outputs": [],
   "source": [
    "from pytorch3d.ops.laplacian_matrices import norm_laplacian, cot_laplacian, laplacian\n",
    "from pytorch3d.ops import norm_laplacian, cot_laplacian, laplacian\n",
    "from pyvista.plotting.plotter import Plotter\n",
    "import torchvision.transforms.v2 as T\n",
    "import torch.distributions as distrib\n",
    "import plotly.graph_objects as go\n",
    "import plotly.express as px\n",
    "from torch import Tensor\n",
    "from typing import cast\n",
    "import torch_geometric\n",
    "import torch.nn as nn\n",
    "import pyvista as pv\n",
    "import scipy.linalg\n",
    "import torch.linalg\n",
    "import numpy as np\n",
    "import pytorch3d\n",
    "import einops\n",
    "import torch"
   ]
  },
  {
   "cell_type": "markdown",
   "metadata": {},
   "source": [
    "### Environment setup"
   ]
  },
  {
   "cell_type": "code",
   "execution_count": 4,
   "metadata": {},
   "outputs": [],
   "source": [
    "pv.set_jupyter_backend('trame')\n",
    "torch.manual_seed(42)\n",
    "np.random.seed(42)"
   ]
  },
  {
   "cell_type": "markdown",
   "metadata": {},
   "source": [
    "### Data Loading"
   ]
  },
  {
   "cell_type": "code",
   "execution_count": 5,
   "metadata": {},
   "outputs": [
    {
     "name": "stderr",
     "output_type": "stream",
     "text": [
      "/home/invokariman/.cache/pypoetry/virtualenvs/mdf-B-9uJKhD-py3.11/lib/python3.11/site-packages/pytorch3d/io/obj_io.py:546: UserWarning: No mtl file provided\n",
      "  warnings.warn(\"No mtl file provided\")\n"
     ]
    }
   ],
   "source": [
    "# Download standard shapes\n",
    "data = DataManager(data_dir=data_dir, cache_dir=cache_dir)\n",
    "\n",
    "# Choose a Manifold and a Signal\n",
    "signal = cast(t.Any, data.weather[5500]['data'])\n",
    "manifold = cast(t.Any, data.objects['stanford-bunny'].vista)\n",
    "\n",
    "# Sample a couple of points\n",
    "k_evecs = 100\n",
    "device = torch.device('cuda')\n",
    "manifold_sampler = ManifoldSampler(torch.tensor(manifold.points), torch.tensor(manifold.faces.reshape((-1, 4))), k_evecs=k_evecs, device=device)"
   ]
  },
  {
   "cell_type": "markdown",
   "metadata": {},
   "source": [
    "### How to apply a texture to a 3d mesh"
   ]
  },
  {
   "cell_type": "markdown",
   "metadata": {},
   "source": [
    "![https://github.com/pyvista/pyvista-support/issues/168](https://user-images.githubusercontent.com/22067021/83365096-c2069800-a373-11ea-9cf3-418f9e55147c.png)"
   ]
  },
  {
   "cell_type": "code",
   "execution_count": 6,
   "metadata": {},
   "outputs": [
    {
     "data": {
      "application/vnd.jupyter.widget-view+json": {
       "model_id": "6a137c3e307c4e35982ce9c451b12fc2",
       "version_major": 2,
       "version_minor": 0
      },
      "text/plain": [
       "Widget(value='<iframe src=\"http://localhost:41195/index.html?ui=P_0x790df2f32390_0&reconnect=auto\" class=\"pyvi…"
      ]
     },
     "metadata": {},
     "output_type": "display_data"
    }
   ],
   "source": [
    "p = Plotter()\n",
    "texture = pv.Texture(signal)\n",
    "manifold.texture_map_to_sphere(inplace=True)\n",
    "p.add_mesh(manifold, texture=texture)\n",
    "p.camera.tight()\n",
    "p.show()"
   ]
  },
  {
   "cell_type": "markdown",
   "metadata": {},
   "source": [
    "### Compute Positional Embedding using Laplace-Beltrami Operator"
   ]
  },
  {
   "cell_type": "code",
   "execution_count": 7,
   "metadata": {},
   "outputs": [
    {
     "data": {
      "application/vnd.jupyter.widget-view+json": {
       "model_id": "a64c89a471ff4c24a572273ff268df32",
       "version_major": 2,
       "version_minor": 0
      },
      "text/plain": [
       "Widget(value='<iframe src=\"http://localhost:41195/index.html?ui=P_0x790dc1307e50_1&reconnect=auto\" class=\"pyvi…"
      ]
     },
     "metadata": {},
     "output_type": "display_data"
    }
   ],
   "source": [
    "# Create 3d mesh\n",
    "mesh = pv.PolyData(manifold_sampler.verts.numpy(), manifold_sampler.faces.numpy())\n",
    "evecs = manifold_sampler.embed(torch.arange(manifold_sampler.verts.size(0)))\n",
    "\n",
    "# Plot multiple images\n",
    "p = Plotter(shape=(1, 3))\n",
    "\n",
    "# 1st eigenfunction\n",
    "p.subplot(0, 0)\n",
    "p.add_mesh(mesh.copy(), scalars=evecs[:, 1:2].sum(dim=1), clim=[-1, 1], cmap='RdBu_r')\n",
    "p.camera.tight()\n",
    "\n",
    "# 2nd eigenfunction\n",
    "p.subplot(0, 1)\n",
    "p.add_mesh(mesh.copy(), scalars=evecs[:, 51:52].sum(dim=1), clim=[-1, 1], cmap='RdBu_r')\n",
    "p.camera.tight()\n",
    "\n",
    "# 3rd eigenfunction\n",
    "p.subplot(0, 2)\n",
    "p.add_mesh(mesh.copy(), scalars=evecs[:, 99:100].sum(dim=1), clim=[-1, 1], cmap='RdBu_r')\n",
    "p.camera.tight()\n",
    "\n",
    "p.show()"
   ]
  },
  {
   "cell_type": "code",
   "execution_count": 8,
   "metadata": {},
   "outputs": [
    {
     "data": {
      "application/vnd.jupyter.widget-view+json": {
       "model_id": "f7b75451e997478299119d947140927d",
       "version_major": 2,
       "version_minor": 0
      },
      "text/plain": [
       "Widget(value='<iframe src=\"http://localhost:41195/index.html?ui=P_0x790dcb6f2ed0_2&reconnect=auto\" class=\"pyvi…"
      ]
     },
     "metadata": {},
     "output_type": "display_data"
    }
   ],
   "source": [
    "pts: PointsOnManifold = manifold_sampler.sample(n=30000, image=torch.tensor(signal))\n",
    "mesh = pv.PolyData(pts['pos'].numpy())\n",
    "pe: Tensor = pts['pos_embedding']\n",
    "\n",
    "# Plot multiple images\n",
    "p = Plotter(shape=(1, 3))\n",
    "\n",
    "# 1st eigenfunction\n",
    "p.subplot(0, 0)\n",
    "p.add_mesh(mesh.copy(), scalars=pe[:, 1], clim=[-1, 1], cmap='RdBu_r')\n",
    "p.camera.tight()\n",
    "\n",
    "# 2nd eigenfunction\n",
    "p.subplot(0, 1)\n",
    "p.add_mesh(mesh.copy(), scalars=pe[:, 49], clim=[-1, 1], cmap='RdBu_r')\n",
    "p.camera.tight()\n",
    "\n",
    "# 3rd eigenfunction\n",
    "p.subplot(0, 2)\n",
    "p.add_mesh(mesh.copy(), scalars=pe[:, 99], clim=[-1, 1], cmap='RdBu_r')\n",
    "p.camera.tight()\n",
    "\n",
    "p.show()"
   ]
  },
  {
   "cell_type": "markdown",
   "metadata": {},
   "source": [
    "### Function f : M -> Y"
   ]
  },
  {
   "cell_type": "code",
   "execution_count": 9,
   "metadata": {},
   "outputs": [
    {
     "data": {
      "application/vnd.jupyter.widget-view+json": {
       "model_id": "04aad947290046b0ad8d9ecef16028a6",
       "version_major": 2,
       "version_minor": 0
      },
      "text/plain": [
       "Widget(value='<iframe src=\"http://localhost:41195/index.html?ui=P_0x790e85407cd0_3&reconnect=auto\" class=\"pyvi…"
      ]
     },
     "metadata": {},
     "output_type": "display_data"
    }
   ],
   "source": [
    "p = Plotter(shape=(1, 3))\n",
    "\n",
    "# Function that uses UV mapping from Pyvista\n",
    "p.subplot(0, 0)\n",
    "mesh = pv.PolyData(pts['pos'].numpy())\n",
    "mesh.texture_map_to_plane(inplace=True)\n",
    "p.add_mesh(mesh.copy(), texture=texture)\n",
    "p.camera.tight()\n",
    "\n",
    "# Function that maps from M to Y\n",
    "p.subplot(0, 1)\n",
    "mesh = pv.PolyData(pts['pos'].numpy())\n",
    "mesh['signal'] = pts['signal']\n",
    "p.add_mesh(mesh.copy(), scalars='signal', rgb=True)\n",
    "p.camera.tight()\n",
    "\n",
    "# Also perform interpolation over the original manifold\n",
    "p.subplot(0, 2)\n",
    "mesh = pv.PolyData(manifold_sampler.verts.numpy(), manifold_sampler.faces.numpy())\n",
    "text = pv.PolyData(pts['pos'].numpy())\n",
    "text['colors'] = pts['signal']\n",
    "mesh = mesh.interpolate(text, n_points=3, sharpness=10)\n",
    "p.add_mesh(text, scalars='colors', rgb=True, render_points_as_spheres=True)\n",
    "p.add_mesh(mesh, scalars='colors', rgb=True)\n",
    "p.camera.tight()\n",
    "\n",
    "p.show()"
   ]
  }
 ],
 "metadata": {
  "kernelspec": {
   "display_name": "mdf-B-9uJKhD-py3.11",
   "language": "python",
   "name": "python3"
  },
  "language_info": {
   "codemirror_mode": {
    "name": "ipython",
    "version": 3
   },
   "file_extension": ".py",
   "mimetype": "text/x-python",
   "name": "python",
   "nbconvert_exporter": "python",
   "pygments_lexer": "ipython3",
   "version": "3.11.0"
  }
 },
 "nbformat": 4,
 "nbformat_minor": 2
}
