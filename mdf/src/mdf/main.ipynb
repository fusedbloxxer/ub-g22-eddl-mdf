{
 "cells": [
  {
   "cell_type": "markdown",
   "metadata": {},
   "source": [
    "Reload .py files whenever there are changes"
   ]
  },
  {
   "cell_type": "code",
   "execution_count": 15,
   "metadata": {},
   "outputs": [
    {
     "name": "stdout",
     "output_type": "stream",
     "text": [
      "The autoreload extension is already loaded. To reload it, use:\n",
      "  %reload_ext autoreload\n"
     ]
    }
   ],
   "source": [
    "%load_ext autoreload\n",
    "%autoreload 2"
   ]
  },
  {
   "cell_type": "markdown",
   "metadata": {},
   "source": [
    "Local imports from this project"
   ]
  },
  {
   "cell_type": "code",
   "execution_count": 16,
   "metadata": {},
   "outputs": [],
   "source": [
    "from mdf import *\n",
    "from mdf.ops import *\n",
    "from mdf.data import *"
   ]
  },
  {
   "cell_type": "markdown",
   "metadata": {},
   "source": [
    "External imports from dependencies"
   ]
  },
  {
   "cell_type": "code",
   "execution_count": 17,
   "metadata": {},
   "outputs": [],
   "source": [
    "from pytorch3d.ops.laplacian_matrices import norm_laplacian, cot_laplacian, laplacian\n",
    "from pytorch3d.ops import norm_laplacian, cot_laplacian, laplacian\n",
    "from pyvista.plotting.plotter import Plotter\n",
    "import torch.distributions as distrib\n",
    "import plotly.graph_objects as go\n",
    "import plotly.express as px\n",
    "from torch import Tensor\n",
    "from typing import cast\n",
    "import torch_geometric\n",
    "import torch.nn as nn\n",
    "import pyvista as pv\n",
    "import scipy.linalg\n",
    "import torch.linalg\n",
    "import numpy as np\n",
    "import pytorch3d\n",
    "import einops\n",
    "import torch"
   ]
  },
  {
   "cell_type": "markdown",
   "metadata": {},
   "source": [
    "Environment setup"
   ]
  },
  {
   "cell_type": "code",
   "execution_count": 18,
   "metadata": {},
   "outputs": [],
   "source": [
    "pv.set_jupyter_backend('trame')"
   ]
  },
  {
   "cell_type": "markdown",
   "metadata": {},
   "source": [
    "Data Loading"
   ]
  },
  {
   "cell_type": "code",
   "execution_count": 19,
   "metadata": {},
   "outputs": [],
   "source": [
    "# Download standard shapes\n",
    "data = DataManager(data_dir=data_dir, cache_dir=cache_dir)"
   ]
  },
  {
   "cell_type": "markdown",
   "metadata": {},
   "source": [
    "How to apply a texture to a 3d mesh"
   ]
  },
  {
   "cell_type": "code",
   "execution_count": 20,
   "metadata": {},
   "outputs": [
    {
     "name": "stderr",
     "output_type": "stream",
     "text": [
      "/home/invokariman/.cache/pypoetry/virtualenvs/mdf-B-9uJKhD-py3.11/lib/python3.11/site-packages/pytorch3d/io/obj_io.py:546: UserWarning: No mtl file provided\n",
      "  warnings.warn(\"No mtl file provided\")\n"
     ]
    },
    {
     "data": {
      "application/vnd.jupyter.widget-view+json": {
       "model_id": "35609cd7288142faa0e009a5d70e4138",
       "version_major": 2,
       "version_minor": 0
      },
      "text/plain": [
       "Widget(value='<iframe src=\"http://localhost:41897/index.html?ui=P_0x7ee9911d6bd0_6&reconnect=auto\" class=\"pyvi…"
      ]
     },
     "metadata": {},
     "output_type": "display_data"
    }
   ],
   "source": [
    "vista  = data.objects['stanford-bunny'].vista\n",
    "texture = pv.Texture(data.weather[42]['data'])\n",
    "vista.texture_map_to_sphere(inplace=True)\n",
    "vista.plot(texture=texture)"
   ]
  },
  {
   "cell_type": "markdown",
   "metadata": {},
   "source": [
    "Compute positional embedding using Laplace-Beltrami Operator"
   ]
  },
  {
   "cell_type": "code",
   "execution_count": 28,
   "metadata": {},
   "outputs": [],
   "source": [
    "lbo = LBOEmbedding.from_poly(vista, k_evecs=10, device=torch.device('cuda'))"
   ]
  },
  {
   "cell_type": "code",
   "execution_count": 33,
   "metadata": {},
   "outputs": [
    {
     "data": {
      "application/vnd.jupyter.widget-view+json": {
       "model_id": "d4d41f9551d24b60838b3b1e2038e4f6",
       "version_major": 2,
       "version_minor": 0
      },
      "text/plain": [
       "Widget(value='<iframe src=\"http://localhost:41897/index.html?ui=P_0x7ee8d13c9650_16&reconnect=auto\" class=\"pyv…"
      ]
     },
     "metadata": {},
     "output_type": "display_data"
    }
   ],
   "source": [
    "mesh = pv.PolyData(lbo.verts.numpy(), lbo.faces.numpy())\n",
    "p = Plotter()\n",
    "evecs = lbo(torch.arange(lbo.verts.size(0)))\n",
    "p.add_mesh(mesh, scalars=evecs[:, 1:2].sum(dim=1), clim=[-1, 1], cmap='RdBu_r')\n",
    "p.show()"
   ]
  },
  {
   "cell_type": "code",
   "execution_count": 46,
   "metadata": {},
   "outputs": [
    {
     "data": {
      "application/vnd.jupyter.widget-view+json": {
       "model_id": "0537625353554c2c9d6fda125e3d5f0c",
       "version_major": 2,
       "version_minor": 0
      },
      "text/plain": [
       "Widget(value='<iframe src=\"http://localhost:41897/index.html?ui=P_0x7ee8d5840b90_29&reconnect=auto\" class=\"pyv…"
      ]
     },
     "metadata": {},
     "output_type": "display_data"
    }
   ],
   "source": [
    "p = Plotter()\n",
    "m_sampler = MeshSampler(verts=lbo.verts, faces=lbo.faces)\n",
    "pts, verts, coefs = m_sampler.sample(10000)\n",
    "evecs = lbo(verts, coefs)\n",
    "mesh = pv.PolyData(pts.numpy())\n",
    "p.add_mesh(mesh, scalars=evecs[:, 1:2].sum(dim=1), clim=[-1, 1], cmap='RdBu_r', show_edges=True)\n",
    "p.show()"
   ]
  }
 ],
 "metadata": {
  "kernelspec": {
   "display_name": "mdf-B-9uJKhD-py3.11",
   "language": "python",
   "name": "python3"
  },
  "language_info": {
   "codemirror_mode": {
    "name": "ipython",
    "version": 3
   },
   "file_extension": ".py",
   "mimetype": "text/x-python",
   "name": "python",
   "nbconvert_exporter": "python",
   "pygments_lexer": "ipython3",
   "version": "3.11.0"
  }
 },
 "nbformat": 4,
 "nbformat_minor": 2
}
