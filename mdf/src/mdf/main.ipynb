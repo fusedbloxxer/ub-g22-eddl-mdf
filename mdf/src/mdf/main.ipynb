{
 "cells": [
  {
   "cell_type": "markdown",
   "metadata": {},
   "source": [
    "Reload .py files whenever there are changes"
   ]
  },
  {
   "cell_type": "code",
   "execution_count": 2,
   "metadata": {},
   "outputs": [],
   "source": [
    "%load_ext autoreload\n",
    "%autoreload 2"
   ]
  },
  {
   "cell_type": "markdown",
   "metadata": {},
   "source": [
    "Local imports from this project"
   ]
  },
  {
   "cell_type": "code",
   "execution_count": 3,
   "metadata": {},
   "outputs": [],
   "source": [
    "from mdf import *\n",
    "from mdf.data import DataManager"
   ]
  },
  {
   "cell_type": "markdown",
   "metadata": {},
   "source": [
    "External imports from dependencies"
   ]
  },
  {
   "cell_type": "code",
   "execution_count": 4,
   "metadata": {},
   "outputs": [],
   "source": [
    "from pytorch3d.ops.laplacian_matrices import norm_laplacian, cot_laplacian, laplacian\n",
    "from pytorch3d.ops import norm_laplacian, cot_laplacian, laplacian\n",
    "from pyvista.plotting.plotter import Plotter\n",
    "import plotly.graph_objects as go\n",
    "import plotly.express as px\n",
    "from torch import Tensor\n",
    "from typing import cast\n",
    "import torch_geometric\n",
    "import torch.nn as nn\n",
    "import pyvista as pv\n",
    "import scipy.linalg\n",
    "import torch.linalg\n",
    "import numpy as np\n",
    "import pytorch3d\n",
    "import einops\n",
    "import torch"
   ]
  },
  {
   "cell_type": "markdown",
   "metadata": {},
   "source": [
    "Environment setup"
   ]
  },
  {
   "cell_type": "code",
   "execution_count": 5,
   "metadata": {},
   "outputs": [],
   "source": [
    "pv.set_jupyter_backend('trame')"
   ]
  },
  {
   "cell_type": "markdown",
   "metadata": {},
   "source": [
    "Data Loading"
   ]
  },
  {
   "cell_type": "code",
   "execution_count": 6,
   "metadata": {},
   "outputs": [],
   "source": [
    "# Download standard shapes\n",
    "data = DataManager(data_dir=data_dir, cache_dir=cache_dir)"
   ]
  },
  {
   "cell_type": "markdown",
   "metadata": {},
   "source": [
    "How to apply a texture to a 3d mesh"
   ]
  },
  {
   "cell_type": "code",
   "execution_count": 136,
   "metadata": {},
   "outputs": [
    {
     "name": "stderr",
     "output_type": "stream",
     "text": [
      "/home/invokariman/.cache/pypoetry/virtualenvs/mdf-B-9uJKhD-py3.11/lib/python3.11/site-packages/pytorch3d/io/obj_io.py:546: UserWarning: No mtl file provided\n",
      "  warnings.warn(\"No mtl file provided\")\n"
     ]
    },
    {
     "data": {
      "application/vnd.jupyter.widget-view+json": {
       "model_id": "a85380976b0649d59e38eced9bdc050c",
       "version_major": 2,
       "version_minor": 0
      },
      "text/plain": [
       "Widget(value='<iframe src=\"http://localhost:39485/index.html?ui=P_0x777f122a39d0_96&reconnect=auto\" class=\"pyv…"
      ]
     },
     "metadata": {},
     "output_type": "display_data"
    }
   ],
   "source": [
    "vista  = data.objects['woody'].vista\n",
    "texture = pv.Texture(data.weather[42]['data'])\n",
    "vista.texture_map_to_sphere(inplace=True)\n",
    "vista.plot(texture=texture)"
   ]
  },
  {
   "cell_type": "markdown",
   "metadata": {},
   "source": [
    "Compute positional embedding using Laplace-Beltrami Operator"
   ]
  },
  {
   "cell_type": "code",
   "execution_count": 137,
   "metadata": {},
   "outputs": [],
   "source": [
    "from pytorch3d.structures import Meshes\n",
    "from torch._tensor import Tensor\n",
    "\n",
    "# Get vertices and faces\n",
    "verts: Tensor = torch.tensor(vista.points)\n",
    "faces: Tensor = torch.tensor(vista.faces.reshape((-1, 4))[:, 1:])\n",
    "\n",
    "# Eliminate vertices that don't appear in faces\n",
    "verts_idx: Tensor = torch.arange(verts.size(0))\n",
    "verts_idx_inuse: Tensor = torch.unique(faces.flatten())\n",
    "verts_idx_inuse: Tensor = torch.isin(verts_idx, verts_idx_inuse)\n",
    "\n",
    "# Be able to offset faces properly\n",
    "offsets = (~verts_idx_inuse).cumsum(0)\n",
    "offset = np.vectorize(lambda x: x - offsets[x])\n",
    "faces_inuse = np.array(vista.faces.reshape((-1, 4)))\n",
    "faces_inuse[:, 1] = offset(faces_inuse[:, 1])\n",
    "faces_inuse[:, 2] = offset(faces_inuse[:, 2])\n",
    "faces_inuse[:, 3] = offset(faces_inuse[:, 3])\n",
    "\n",
    "def get_adjacency_matrix(verts: Tensor, faces: Tensor, index: Tensor) -> Tensor:\n",
    "    matrix: Tensor = torch.zeros(size=(verts.size(0), verts.size(0)))\n",
    "    matrix[faces[:, 0], faces[:, 1]] = 1\n",
    "    matrix[faces[:, 1], faces[:, 0]] = 1\n",
    "    matrix[faces[:, 0], faces[:, 2]] = 1\n",
    "    matrix[faces[:, 2], faces[:, 0]] = 1\n",
    "    matrix[faces[:, 1], faces[:, 2]] = 1\n",
    "    matrix[faces[:, 2], faces[:, 1]] = 1\n",
    "    matrix = matrix[index, :][:, index]\n",
    "    return matrix\n",
    "\n",
    "def get_degree_matrix(adjacency_matrix: Tensor) -> Tensor:\n",
    "    matrix = torch.sum(adjacency_matrix, dim=1).to_dense()\n",
    "    matrix = torch.diag(matrix, diagonal=0)\n",
    "    return matrix\n",
    "\n",
    "# Find symmetric normalized graph Laplacian\n",
    "A: Tensor = get_adjacency_matrix(verts, faces, verts_idx_inuse)\n",
    "D: Tensor = get_degree_matrix(A)\n",
    "\n",
    "# Remove unused vertices\n",
    "verts_inuse: Tensor = verts[verts_idx_inuse, :]\n",
    "\n",
    "# Compute Laplacian\n",
    "L = torch.diag(D.diag() ** (-1/2)).to_sparse() @ (D - A).to_sparse() @ torch.diag(D.diag() ** (-1/2)).to_sparse()"
   ]
  },
  {
   "cell_type": "code",
   "execution_count": 139,
   "metadata": {},
   "outputs": [],
   "source": [
    "# Find the smallest k eigenvalues and their respective eigenvectors\n",
    "k_eigenvals = 10\n",
    "val, vec = torch.lobpcg(L.cuda(), k=k_eigenvals, largest=False)\n",
    "\n",
    "def eigenfunction(vertex_index: int, eigenvector: torch.Tensor) -> torch.Tensor:\n",
    "    return eigenvector[vertex_index] * torch.sqrt(torch.tensor(eigenvector.size(0)))\n",
    "\n",
    "def eigen(vertex_index: int, eigenvectors: torch.Tensor) -> torch.Tensor:\n",
    "    return eigenvectors[vertex_index, :].sum() * torch.sqrt(torch.tensor(eigenvectors.size(0)))\n",
    "\n",
    "vec = torch.nn.functional.normalize(vec, dim=0)\n",
    "vec = vec.cpu()"
   ]
  },
  {
   "cell_type": "code",
   "execution_count": 141,
   "metadata": {},
   "outputs": [
    {
     "data": {
      "application/vnd.jupyter.widget-view+json": {
       "model_id": "b47ee15388b94028914265fe124e2e9e",
       "version_major": 2,
       "version_minor": 0
      },
      "text/plain": [
       "Widget(value='<iframe src=\"http://localhost:39485/index.html?ui=P_0x777f061951d0_98&reconnect=auto\" class=\"pyv…"
      ]
     },
     "metadata": {},
     "output_type": "display_data"
    }
   ],
   "source": [
    "x = np.array([eigen(i, vec[:, 9:10]) for i in range(verts_inuse.shape[0])])\n",
    "pe = pv.PolyData(verts_inuse.numpy(), faces_inuse)\n",
    "p = Plotter()\n",
    "p.add_mesh(pe, scalars=x, clim=[-1, 1], cmap='RdBu_r')\n",
    "p.show()"
   ]
  }
 ],
 "metadata": {
  "kernelspec": {
   "display_name": "mdf-B-9uJKhD-py3.11",
   "language": "python",
   "name": "python3"
  },
  "language_info": {
   "codemirror_mode": {
    "name": "ipython",
    "version": 3
   },
   "file_extension": ".py",
   "mimetype": "text/x-python",
   "name": "python",
   "nbconvert_exporter": "python",
   "pygments_lexer": "ipython3",
   "version": "3.11.0"
  }
 },
 "nbformat": 4,
 "nbformat_minor": 2
}
