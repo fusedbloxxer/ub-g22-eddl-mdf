{
 "cells": [
  {
   "cell_type": "markdown",
   "metadata": {},
   "source": [
    "Reload .py files whenever there are changes"
   ]
  },
  {
   "cell_type": "code",
   "execution_count": 1,
   "metadata": {},
   "outputs": [],
   "source": [
    "%load_ext autoreload\n",
    "%autoreload 2"
   ]
  },
  {
   "cell_type": "markdown",
   "metadata": {},
   "source": [
    "Local imports from this project"
   ]
  },
  {
   "cell_type": "code",
   "execution_count": 2,
   "metadata": {},
   "outputs": [],
   "source": [
    "from mdf import *\n",
    "from mdf.ops import *\n",
    "from mdf.data import *"
   ]
  },
  {
   "cell_type": "markdown",
   "metadata": {},
   "source": [
    "External imports from dependencies"
   ]
  },
  {
   "cell_type": "code",
   "execution_count": 3,
   "metadata": {},
   "outputs": [],
   "source": [
    "from pytorch3d.ops.laplacian_matrices import norm_laplacian, cot_laplacian, laplacian\n",
    "from pytorch3d.ops import norm_laplacian, cot_laplacian, laplacian\n",
    "from pyvista.plotting.plotter import Plotter\n",
    "import plotly.graph_objects as go\n",
    "import plotly.express as px\n",
    "from torch import Tensor\n",
    "from typing import cast\n",
    "import torch_geometric\n",
    "import torch.nn as nn\n",
    "import pyvista as pv\n",
    "import scipy.linalg\n",
    "import torch.linalg\n",
    "import numpy as np\n",
    "import pytorch3d\n",
    "import einops\n",
    "import torch"
   ]
  },
  {
   "cell_type": "markdown",
   "metadata": {},
   "source": [
    "Environment setup"
   ]
  },
  {
   "cell_type": "code",
   "execution_count": 4,
   "metadata": {},
   "outputs": [],
   "source": [
    "pv.set_jupyter_backend('trame')"
   ]
  },
  {
   "cell_type": "markdown",
   "metadata": {},
   "source": [
    "Data Loading"
   ]
  },
  {
   "cell_type": "code",
   "execution_count": 5,
   "metadata": {},
   "outputs": [],
   "source": [
    "# Download standard shapes\n",
    "data = DataManager(data_dir=data_dir, cache_dir=cache_dir)"
   ]
  },
  {
   "cell_type": "markdown",
   "metadata": {},
   "source": [
    "How to apply a texture to a 3d mesh"
   ]
  },
  {
   "cell_type": "code",
   "execution_count": 6,
   "metadata": {},
   "outputs": [
    {
     "name": "stderr",
     "output_type": "stream",
     "text": [
      "/home/invokariman/.cache/pypoetry/virtualenvs/mdf-B-9uJKhD-py3.11/lib/python3.11/site-packages/pytorch3d/io/obj_io.py:546: UserWarning: No mtl file provided\n",
      "  warnings.warn(\"No mtl file provided\")\n"
     ]
    },
    {
     "data": {
      "application/vnd.jupyter.widget-view+json": {
       "model_id": "0e278930673f459db4c843f5accc593d",
       "version_major": 2,
       "version_minor": 0
      },
      "text/plain": [
       "Widget(value='<iframe src=\"http://localhost:32955/index.html?ui=P_0x7d0a5b170bd0_0&reconnect=auto\" class=\"pyvi…"
      ]
     },
     "metadata": {},
     "output_type": "display_data"
    }
   ],
   "source": [
    "vista  = data.objects['stanford-bunny'].vista\n",
    "texture = pv.Texture(data.weather[42]['data'])\n",
    "vista.texture_map_to_sphere(inplace=True)\n",
    "vista.plot(texture=texture)"
   ]
  },
  {
   "cell_type": "markdown",
   "metadata": {},
   "source": [
    "Compute positional embedding using Laplace-Beltrami Operator"
   ]
  },
  {
   "cell_type": "code",
   "execution_count": 15,
   "metadata": {},
   "outputs": [],
   "source": [
    "verts = torch.tensor(vista.points)\n",
    "faces = torch.tensor(vista.faces)\n",
    "lbo = LBOEmbedding.from_poly(vista, k_evecs=10, device=torch.device('cuda'))"
   ]
  },
  {
   "cell_type": "code",
   "execution_count": 16,
   "metadata": {},
   "outputs": [
    {
     "data": {
      "text/plain": [
       "tensor([[0.3333, 0.3333, 0.3333]])"
      ]
     },
     "execution_count": 16,
     "metadata": {},
     "output_type": "execute_result"
    }
   ],
   "source": [
    "index = torch.tensor([[0, 0, 0]])\n",
    "index\n",
    "\n",
    "bary = torch.tensor([[1/3, 1/3, 1/3]])\n",
    "bary"
   ]
  },
  {
   "cell_type": "code",
   "execution_count": 21,
   "metadata": {},
   "outputs": [
    {
     "data": {
      "text/plain": [
       "tensor([[    0,     0,     0],\n",
       "        [    1,     1,     1],\n",
       "        [    2,     2,     2],\n",
       "        ...,\n",
       "        [34831, 34831, 34831],\n",
       "        [34832, 34832, 34832],\n",
       "        [34833, 34833, 34833]])"
      ]
     },
     "execution_count": 21,
     "metadata": {},
     "output_type": "execute_result"
    }
   ],
   "source": [
    "verts_idx = einops.repeat(torch.arange(lbo.verts.size(0)), 'N -> N 3')\n",
    "verts_idx"
   ]
  },
  {
   "cell_type": "code",
   "execution_count": 22,
   "metadata": {},
   "outputs": [
    {
     "name": "stdout",
     "output_type": "stream",
     "text": [
      "torch.Size([3, 34834, 10]) torch.Size([34834, 3, 10])\n"
     ]
    },
    {
     "ename": "RuntimeError",
     "evalue": "Size does not match at dimension 0 expected index [34834, 3, 10] to be smaller than self [3, 34834, 10] apart from dimension 1",
     "output_type": "error",
     "traceback": [
      "\u001b[0;31m---------------------------------------------------------------------------\u001b[0m",
      "\u001b[0;31mRuntimeError\u001b[0m                              Traceback (most recent call last)",
      "Cell \u001b[0;32mIn[22], line 1\u001b[0m\n\u001b[0;32m----> 1\u001b[0m x \u001b[38;5;241m=\u001b[39m \u001b[43mlbo\u001b[49m\u001b[43m(\u001b[49m\u001b[43mverts_idx\u001b[49m\u001b[43m)\u001b[49m\n",
      "File \u001b[0;32m/mnt/storage/git/ub-g22-eddl-mdf/mdf/src/mdf/ops.py:50\u001b[0m, in \u001b[0;36mLBOEmbedding.__call__\u001b[0;34m(self, verts, bary)\u001b[0m\n\u001b[1;32m     48\u001b[0m evecs: Tensor \u001b[38;5;241m=\u001b[39m einops\u001b[38;5;241m.\u001b[39mrepeat(\u001b[38;5;28mself\u001b[39m\u001b[38;5;241m.\u001b[39mevecs, \u001b[38;5;124m'\u001b[39m\u001b[38;5;124mV K -> C V K\u001b[39m\u001b[38;5;124m'\u001b[39m, C\u001b[38;5;241m=\u001b[39mverts\u001b[38;5;241m.\u001b[39msize(\u001b[38;5;241m1\u001b[39m))\n\u001b[1;32m     49\u001b[0m \u001b[38;5;28mprint\u001b[39m(evecs\u001b[38;5;241m.\u001b[39mshape, index\u001b[38;5;241m.\u001b[39mshape)\n\u001b[0;32m---> 50\u001b[0m eigen: Tensor \u001b[38;5;241m=\u001b[39m \u001b[43mtorch\u001b[49m\u001b[38;5;241;43m.\u001b[39;49m\u001b[43mgather\u001b[49m\u001b[43m(\u001b[49m\u001b[38;5;28;43minput\u001b[39;49m\u001b[38;5;241;43m=\u001b[39;49m\u001b[43mevecs\u001b[49m\u001b[43m,\u001b[49m\u001b[43m \u001b[49m\u001b[43mdim\u001b[49m\u001b[38;5;241;43m=\u001b[39;49m\u001b[38;5;241;43m-\u001b[39;49m\u001b[38;5;241;43m2\u001b[39;49m\u001b[43m,\u001b[49m\u001b[43m \u001b[49m\u001b[43mindex\u001b[49m\u001b[38;5;241;43m=\u001b[39;49m\u001b[43mindex\u001b[49m\u001b[43m)\u001b[49m\n\u001b[1;32m     52\u001b[0m \u001b[38;5;66;03m# Compute baricentric interpolation using eigenvector values\u001b[39;00m\n\u001b[1;32m     53\u001b[0m eigen \u001b[38;5;241m=\u001b[39m torch\u001b[38;5;241m.\u001b[39meinsum(\u001b[38;5;124m'\u001b[39m\u001b[38;5;124mVCK,VC->VK\u001b[39m\u001b[38;5;124m'\u001b[39m, eigen, bary)\n",
      "\u001b[0;31mRuntimeError\u001b[0m: Size does not match at dimension 0 expected index [34834, 3, 10] to be smaller than self [3, 34834, 10] apart from dimension 1"
     ]
    }
   ],
   "source": [
    "x = lbo(verts_idx)"
   ]
  },
  {
   "cell_type": "code",
   "execution_count": null,
   "metadata": {},
   "outputs": [],
   "source": [
    "# Find the smallest k eigenvalues and their respective eigenvectors\n",
    "k_eigenvals = 10\n",
    "val, vec = torch.lobpcg(L.cuda(), k=k_eigenvals, largest=False)\n",
    "\n",
    "def eigenfunction(vertex_index: int, eigenvector: torch.Tensor) -> torch.Tensor:\n",
    "    return eigenvector[vertex_index] * torch.sqrt(torch.tensor(eigenvector.size(0)))\n",
    "\n",
    "def eigen(vertex_index: int, eigenvectors: torch.Tensor) -> torch.Tensor:\n",
    "    return eigenvectors[vertex_index, :].sum() * torch.sqrt(torch.tensor(eigenvectors.size(0)))\n",
    "\n",
    "vec = torch.nn.functional.normalize(vec, dim=0)\n",
    "vec = vec.cpu()"
   ]
  },
  {
   "cell_type": "code",
   "execution_count": null,
   "metadata": {},
   "outputs": [],
   "source": [
    "x = np.array([eigen(i, vec[:, 1:2]) for i in range(verts.size(0))])\n",
    "pe = pv.PolyData(verts_inuse.numpy(), faces_inuse)\n",
    "p = Plotter()\n",
    "p.add_mesh(pe, scalars=x, clim=[-1, 1], cmap='RdBu_r')\n",
    "p.show()"
   ]
  }
 ],
 "metadata": {
  "kernelspec": {
   "display_name": "mdf-B-9uJKhD-py3.11",
   "language": "python",
   "name": "python3"
  },
  "language_info": {
   "codemirror_mode": {
    "name": "ipython",
    "version": 3
   },
   "file_extension": ".py",
   "mimetype": "text/x-python",
   "name": "python",
   "nbconvert_exporter": "python",
   "pygments_lexer": "ipython3",
   "version": "3.11.0"
  }
 },
 "nbformat": 4,
 "nbformat_minor": 2
}
