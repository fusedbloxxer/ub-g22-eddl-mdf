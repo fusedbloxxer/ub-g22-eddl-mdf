{
 "cells": [
  {
   "cell_type": "markdown",
   "metadata": {},
   "source": [
    "### Reload .py files whenever there are changes"
   ]
  },
  {
   "cell_type": "code",
   "execution_count": 269,
   "metadata": {},
   "outputs": [
    {
     "name": "stdout",
     "output_type": "stream",
     "text": [
      "The autoreload extension is already loaded. To reload it, use:\n",
      "  %reload_ext autoreload\n"
     ]
    }
   ],
   "source": [
    "%load_ext autoreload\n",
    "%autoreload 2"
   ]
  },
  {
   "cell_type": "markdown",
   "metadata": {},
   "source": [
    "### Local imports from this project"
   ]
  },
  {
   "cell_type": "code",
   "execution_count": 270,
   "metadata": {},
   "outputs": [],
   "source": [
    "from mdf import *\n",
    "from mdf.ops import *\n",
    "from mdf.data import *"
   ]
  },
  {
   "cell_type": "markdown",
   "metadata": {},
   "source": [
    "### External imports from dependencies"
   ]
  },
  {
   "cell_type": "code",
   "execution_count": 271,
   "metadata": {},
   "outputs": [],
   "source": [
    "from pytorch3d.ops.laplacian_matrices import norm_laplacian, cot_laplacian, laplacian\n",
    "from pytorch3d.ops import norm_laplacian, cot_laplacian, laplacian\n",
    "from pyvista.plotting.plotter import Plotter\n",
    "import torchvision.transforms.v2 as T\n",
    "import torch.distributions as distrib\n",
    "import plotly.graph_objects as go\n",
    "import plotly.express as px\n",
    "from torch import Tensor\n",
    "from typing import cast\n",
    "import torch_geometric\n",
    "import torch.nn as nn\n",
    "import pyvista as pv\n",
    "import scipy.linalg\n",
    "import torch.linalg\n",
    "import numpy as np\n",
    "import pytorch3d\n",
    "import einops\n",
    "import torch"
   ]
  },
  {
   "cell_type": "markdown",
   "metadata": {},
   "source": [
    "### Environment setup"
   ]
  },
  {
   "cell_type": "code",
   "execution_count": 272,
   "metadata": {},
   "outputs": [],
   "source": [
    "pv.set_jupyter_backend('trame')"
   ]
  },
  {
   "cell_type": "markdown",
   "metadata": {},
   "source": [
    "### Data Loading"
   ]
  },
  {
   "cell_type": "code",
   "execution_count": 273,
   "metadata": {},
   "outputs": [],
   "source": [
    "# Download standard shapes\n",
    "data = DataManager(data_dir=data_dir, cache_dir=cache_dir)"
   ]
  },
  {
   "cell_type": "markdown",
   "metadata": {},
   "source": [
    "### How to apply a texture to a 3d mesh"
   ]
  },
  {
   "cell_type": "markdown",
   "metadata": {},
   "source": [
    "![https://github.com/pyvista/pyvista-support/issues/168](https://user-images.githubusercontent.com/22067021/83365096-c2069800-a373-11ea-9cf3-418f9e55147c.png)"
   ]
  },
  {
   "cell_type": "code",
   "execution_count": 274,
   "metadata": {},
   "outputs": [
    {
     "name": "stderr",
     "output_type": "stream",
     "text": [
      "/home/invokariman/.cache/pypoetry/virtualenvs/mdf-B-9uJKhD-py3.11/lib/python3.11/site-packages/pytorch3d/io/obj_io.py:546: UserWarning: No mtl file provided\n",
      "  warnings.warn(\"No mtl file provided\")\n"
     ]
    },
    {
     "data": {
      "application/vnd.jupyter.widget-view+json": {
       "model_id": "c8e16269e6114621aeeb4e5f515b6797",
       "version_major": 2,
       "version_minor": 0
      },
      "text/plain": [
       "Widget(value='<iframe src=\"http://localhost:46281/index.html?ui=P_0x735644898790_193&reconnect=auto\" class=\"py…"
      ]
     },
     "metadata": {},
     "output_type": "display_data"
    }
   ],
   "source": [
    "p = Plotter()\n",
    "manifold  = cast(pv.PolyData, data.objects['stanford-bunny'].vista)\n",
    "texture = pv.Texture(data.weather[3600]['data'])\n",
    "manifold.texture_map_to_sphere(inplace=True)\n",
    "p.add_mesh(manifold, texture=texture)\n",
    "p.camera.tight()\n",
    "p.show()"
   ]
  },
  {
   "cell_type": "markdown",
   "metadata": {},
   "source": [
    "### Compute Positional Embedding using Laplace-Beltrami Operator"
   ]
  },
  {
   "cell_type": "code",
   "execution_count": 275,
   "metadata": {},
   "outputs": [],
   "source": [
    "lbo = LBOEmbedding.from_poly(manifold, k_evecs=100, device=torch.device('cuda'))"
   ]
  },
  {
   "cell_type": "code",
   "execution_count": 276,
   "metadata": {},
   "outputs": [
    {
     "data": {
      "application/vnd.jupyter.widget-view+json": {
       "model_id": "dc55403a75814256b8dba4b873c01128",
       "version_major": 2,
       "version_minor": 0
      },
      "text/plain": [
       "Widget(value='<iframe src=\"http://localhost:46281/index.html?ui=P_0x735624be1950_194&reconnect=auto\" class=\"py…"
      ]
     },
     "metadata": {},
     "output_type": "display_data"
    }
   ],
   "source": [
    "# Create 3d mesh\n",
    "mesh = pv.PolyData(lbo.verts.numpy(), lbo.faces.numpy())\n",
    "evecs = lbo(torch.arange(lbo.verts.size(0)))\n",
    "\n",
    "# Plot multiple images\n",
    "p = Plotter(shape=(1, 3))\n",
    "\n",
    "# 1st eigenfunction\n",
    "p.subplot(0, 0)\n",
    "p.add_mesh(mesh.copy(), scalars=evecs[:, 1:2].sum(dim=1), clim=[-1, 1], cmap='RdBu_r')\n",
    "p.camera.tight()\n",
    "\n",
    "# 2nd eigenfunction\n",
    "p.subplot(0, 1)\n",
    "mesh = mesh.copy()\n",
    "p.add_mesh(mesh.copy(), scalars=evecs[:, 50:51].sum(dim=1), clim=[-1, 1], cmap='RdBu_r')\n",
    "p.camera.tight()\n",
    "\n",
    "# 3rd eigenfunction\n",
    "p.subplot(0, 2)\n",
    "mesh = mesh.copy()\n",
    "p.add_mesh(mesh, scalars=evecs[:, 99:100].sum(dim=1), clim=[-1, 1], cmap='RdBu_r')\n",
    "p.camera.tight()\n",
    "\n",
    "p.show()"
   ]
  },
  {
   "cell_type": "code",
   "execution_count": 277,
   "metadata": {},
   "outputs": [
    {
     "data": {
      "application/vnd.jupyter.widget-view+json": {
       "model_id": "993ddd7410fc4919bbbdd8c891059ff1",
       "version_major": 2,
       "version_minor": 0
      },
      "text/plain": [
       "Widget(value='<iframe src=\"http://localhost:46281/index.html?ui=P_0x735624a2f510_196&reconnect=auto\" class=\"py…"
      ]
     },
     "metadata": {},
     "output_type": "display_data"
    }
   ],
   "source": [
    "p = Plotter()\n",
    "\n",
    "# Create 3d mesh\n",
    "m_sampler = MeshSampler(verts=lbo.verts, faces=lbo.faces)\n",
    "pts, verts, coefs = m_sampler.sample(2500)\n",
    "evecs = lbo(verts, coefs)\n",
    "mesh = pv.PolyData(pts.numpy())\n",
    "\n",
    "# Plot multiple images\n",
    "p = Plotter(shape=(1, 3))\n",
    "\n",
    "# 1st eigenfunction\n",
    "p.subplot(0, 0)\n",
    "p.add_mesh(mesh, scalars=evecs[:, 1:2].sum(dim=1), clim=[-1, 1], cmap='RdBu_r')\n",
    "p.camera.tight()\n",
    "\n",
    "# 2nd eigenfunction\n",
    "p.subplot(0, 1)\n",
    "mesh = mesh.copy()\n",
    "p.add_mesh(mesh.copy(), scalars=evecs[:, 50:51].sum(dim=1), clim=[-1, 1], cmap='RdBu_r')\n",
    "p.camera.tight()\n",
    "\n",
    "# 3rd eigenfunction\n",
    "p.subplot(0, 2)\n",
    "mesh = mesh.copy()\n",
    "p.add_mesh(mesh, scalars=evecs[:, 75:76].sum(dim=1), clim=[-1, 1], cmap='RdBu_r')\n",
    "p.camera.tight()\n",
    "\n",
    "p.show()"
   ]
  },
  {
   "cell_type": "markdown",
   "metadata": {},
   "source": [
    "### Compute texture using implicit UV mapping"
   ]
  },
  {
   "cell_type": "code",
   "execution_count": 278,
   "metadata": {},
   "outputs": [
    {
     "data": {
      "application/vnd.jupyter.widget-view+json": {
       "model_id": "09604e4341b041758a99be4cd8be8a3c",
       "version_major": 2,
       "version_minor": 0
      },
      "text/plain": [
       "Widget(value='<iframe src=\"http://localhost:46281/index.html?ui=P_0x73563f0ced50_197&reconnect=auto\" class=\"py…"
      ]
     },
     "metadata": {},
     "output_type": "display_data"
    }
   ],
   "source": [
    "image = data.weather[3600]['data']\n",
    "mesh.texture_map_to_sphere(inplace=True)\n",
    "texture = pv.Texture(image)\n",
    "\n",
    "p = Plotter()\n",
    "p.add_mesh(mesh, texture=texture)\n",
    "p.camera.tight()\n",
    "p.show()"
   ]
  },
  {
   "cell_type": "markdown",
   "metadata": {},
   "source": [
    "### Compute texture using f : M -> Y interpolation"
   ]
  },
  {
   "cell_type": "code",
   "execution_count": 283,
   "metadata": {},
   "outputs": [
    {
     "data": {
      "application/vnd.jupyter.widget-view+json": {
       "model_id": "cc0ba9114b8d4ef0aa045591e4501c84",
       "version_major": 2,
       "version_minor": 0
      },
      "text/plain": [
       "Widget(value='<iframe src=\"http://localhost:46281/index.html?ui=P_0x735641a66110_200&reconnect=auto\" class=\"py…"
      ]
     },
     "metadata": {},
     "output_type": "display_data"
    }
   ],
   "source": [
    "# Function that maps from M to Y\n",
    "mesh2rgb = TextureMapper()\n",
    "rgb = mesh2rgb(pts, torch.tensor(image))\n",
    "mesh['colors'] = rgb\n",
    "\n",
    "p = Plotter()\n",
    "p.add_mesh(mesh, scalars='colors', rgb=True)\n",
    "p.camera.tight()\n",
    "p.show()"
   ]
  },
  {
   "cell_type": "markdown",
   "metadata": {},
   "source": [
    "### Place signal Y on the initial mesh without texture and perform interpolation"
   ]
  },
  {
   "cell_type": "code",
   "execution_count": 280,
   "metadata": {},
   "outputs": [
    {
     "data": {
      "application/vnd.jupyter.widget-view+json": {
       "model_id": "1abfc4e74c01427f983b2156ffccf24a",
       "version_major": 2,
       "version_minor": 0
      },
      "text/plain": [
       "Widget(value='<iframe src=\"http://localhost:46281/index.html?ui=P_0x73562a484050_199&reconnect=auto\" class=\"py…"
      ]
     },
     "metadata": {},
     "output_type": "display_data"
    }
   ],
   "source": [
    "p = Plotter()\n",
    "p.add_mesh(mesh, scalars='colors', rgb=True)\n",
    "p.camera.tight()\n",
    "p.show()"
   ]
  }
 ],
 "metadata": {
  "kernelspec": {
   "display_name": "mdf-B-9uJKhD-py3.11",
   "language": "python",
   "name": "python3"
  },
  "language_info": {
   "codemirror_mode": {
    "name": "ipython",
    "version": 3
   },
   "file_extension": ".py",
   "mimetype": "text/x-python",
   "name": "python",
   "nbconvert_exporter": "python",
   "pygments_lexer": "ipython3",
   "version": "3.11.0"
  }
 },
 "nbformat": 4,
 "nbformat_minor": 2
}
